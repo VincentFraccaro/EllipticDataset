{
 "cells": [
  {
   "cell_type": "code",
   "execution_count": 13,
   "metadata": {},
   "outputs": [],
   "source": [
    "import pandas as pd\n",
    "import numpy as np\n",
    "import matplotlib.pyplot as plt\n",
    "import seaborn as sns\n",
    "import networkx as nx\n",
    "\n",
    "from sklearn.model_selection import train_test_split\n",
    "from sklearn.svm import SVC\n",
    "from sklearn.semi_supervised import LabelPropagation, LabelSpreading\n",
    "from sklearn.linear_model import LogisticRegression\n",
    "from sklearn.metrics import precision_recall_fscore_support, f1_score, accuracy_score, silhouette_score, confusion_matrix, classification_report\n",
    "from sklearn.ensemble import RandomForestClassifier\n",
    "from sklearn.cluster import KMeans\n",
    "from sklearn.model_selection import GridSearchCV\n",
    "\n",
    "import torch\n",
    "import torch.nn as nn\n",
    "import torch.nn.functional as F\n",
    "import torch.optim as optim\n",
    "\n",
    "from LSTM_model import LSTM\n",
    "\n",
    "%matplotlib inline"
   ]
  },
  {
   "cell_type": "code",
   "execution_count": 2,
   "metadata": {},
   "outputs": [],
   "source": [
    "# Import data\n",
    "\n",
    "edgelist = pd.read_csv('../data/elliptic_txs_edgelist.csv')\n",
    "data = pd.read_csv('../data/merged_df.csv')"
   ]
  },
  {
   "cell_type": "code",
   "execution_count": 3,
   "metadata": {},
   "outputs": [],
   "source": [
    "data['class'] = data['class'].map({'licit': 0, 'illicit': 1, 'unknown': 'unknown'})\n",
    "data = data[data['class'] != 'unknown']"
   ]
  },
  {
   "cell_type": "code",
   "execution_count": 7,
   "metadata": {},
   "outputs": [],
   "source": [
    "# Create train and test sets\n",
    "\n",
    "X_train, X_test = train_test_split(data, test_size=0.2, random_state=42)\n",
    "\n",
    "# Create train and test sets for autoencoder\n",
    "y_train_lstm = X_train['class']\n",
    "y_test_lstm = X_test['class']\n",
    "\n",
    "X_train_lstm = X_train.drop(['txId', 'Time step', 'class'], axis=1)\n",
    "X_test_lstm = X_test.drop(['txId', 'Time step', 'class'], axis=1)\n",
    "\n",
    "# Convert to tensors\n",
    "\n",
    "X_train_lstm = torch.tensor(X_train_lstm.values).float()\n",
    "X_test_lstm = torch.tensor(X_test_lstm.values).float()\n",
    "\n",
    "y_train_lstm = y_train_lstm.astype('int')\n",
    "y_test_lstm = y_test_lstm.astype('int')\n",
    "\n",
    "y_train_lstm = torch.tensor(y_train_lstm.values).long()\n",
    "y_test_lstm = torch.tensor(y_test_lstm.values).long()"
   ]
  },
  {
   "cell_type": "code",
   "execution_count": 14,
   "metadata": {},
   "outputs": [],
   "source": [
    "# Load a lstm model from a pt file\n",
    "lstm = LSTM(input_dim=X_train_lstm.size(-1), hidden_dim=50, output_dim=1, num_layers=2)"
   ]
  },
  {
   "cell_type": "code",
   "execution_count": 15,
   "metadata": {},
   "outputs": [
    {
     "data": {
      "text/plain": [
       "<All keys matched successfully>"
      ]
     },
     "execution_count": 15,
     "metadata": {},
     "output_type": "execute_result"
    }
   ],
   "source": [
    "lstm.load_state_dict(torch.load('../models/lstm_model.pt'))"
   ]
  },
  {
   "cell_type": "code",
   "execution_count": 21,
   "metadata": {},
   "outputs": [
    {
     "name": "stdout",
     "output_type": "stream",
     "text": [
      "Test Accuracy: 97.916890 %\n"
     ]
    }
   ],
   "source": [
    "lstm.eval()\n",
    "with torch.no_grad():\n",
    "    outputs = lstm(X_test_lstm)\n",
    "    predicted = (torch.sigmoid(outputs) > 0.5).float()\n",
    "    total = len(y_test_lstm) \n",
    "    correct = (predicted.view(-1) == torch.Tensor(y_test_lstm).float()).sum().item()\n",
    "    print('Test Accuracy: %f %%' % (100 * correct / total))"
   ]
  },
  {
   "cell_type": "code",
   "execution_count": null,
   "metadata": {},
   "outputs": [],
   "source": []
  }
 ],
 "metadata": {
  "kernelspec": {
   "display_name": "MastercardEnvironment",
   "language": "python",
   "name": "python3"
  },
  "language_info": {
   "codemirror_mode": {
    "name": "ipython",
    "version": 3
   },
   "file_extension": ".py",
   "mimetype": "text/x-python",
   "name": "python",
   "nbconvert_exporter": "python",
   "pygments_lexer": "ipython3",
   "version": "3.11.4"
  },
  "orig_nbformat": 4
 },
 "nbformat": 4,
 "nbformat_minor": 2
}
